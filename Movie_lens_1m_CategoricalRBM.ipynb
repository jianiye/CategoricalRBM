{
  "cells": [
    {
      "cell_type": "markdown",
      "metadata": {
        "id": "ccJGKYIY10X2"
      },
      "source": [
        "If not using colab, you can comment below out. \n",
        "If using Colab, upload rating_1m.csv, CategoricalRBM.py and dataProcess.py."
      ]
    },
    {
      "cell_type": "code",
      "execution_count": 2,
      "metadata": {
        "colab": {
          "base_uri": "https://localhost:8080/",
          "height": 701
        },
        "id": "PTbhm7YN0_C8",
        "outputId": "9234ebdc-767f-4489-a1e7-6a34c6134a9e"
      },
      "outputs": [
        {
          "output_type": "display_data",
          "data": {
            "text/plain": [
              "<IPython.core.display.HTML object>"
            ],
            "text/html": [
              "\n",
              "     <input type=\"file\" id=\"files-731e110c-1aef-4e16-a10c-3b722a405801\" name=\"files[]\" multiple disabled\n",
              "        style=\"border:none\" />\n",
              "     <output id=\"result-731e110c-1aef-4e16-a10c-3b722a405801\">\n",
              "      Upload widget is only available when the cell has been executed in the\n",
              "      current browser session. Please rerun this cell to enable.\n",
              "      </output>\n",
              "      <script>// Copyright 2017 Google LLC\n",
              "//\n",
              "// Licensed under the Apache License, Version 2.0 (the \"License\");\n",
              "// you may not use this file except in compliance with the License.\n",
              "// You may obtain a copy of the License at\n",
              "//\n",
              "//      http://www.apache.org/licenses/LICENSE-2.0\n",
              "//\n",
              "// Unless required by applicable law or agreed to in writing, software\n",
              "// distributed under the License is distributed on an \"AS IS\" BASIS,\n",
              "// WITHOUT WARRANTIES OR CONDITIONS OF ANY KIND, either express or implied.\n",
              "// See the License for the specific language governing permissions and\n",
              "// limitations under the License.\n",
              "\n",
              "/**\n",
              " * @fileoverview Helpers for google.colab Python module.\n",
              " */\n",
              "(function(scope) {\n",
              "function span(text, styleAttributes = {}) {\n",
              "  const element = document.createElement('span');\n",
              "  element.textContent = text;\n",
              "  for (const key of Object.keys(styleAttributes)) {\n",
              "    element.style[key] = styleAttributes[key];\n",
              "  }\n",
              "  return element;\n",
              "}\n",
              "\n",
              "// Max number of bytes which will be uploaded at a time.\n",
              "const MAX_PAYLOAD_SIZE = 100 * 1024;\n",
              "\n",
              "function _uploadFiles(inputId, outputId) {\n",
              "  const steps = uploadFilesStep(inputId, outputId);\n",
              "  const outputElement = document.getElementById(outputId);\n",
              "  // Cache steps on the outputElement to make it available for the next call\n",
              "  // to uploadFilesContinue from Python.\n",
              "  outputElement.steps = steps;\n",
              "\n",
              "  return _uploadFilesContinue(outputId);\n",
              "}\n",
              "\n",
              "// This is roughly an async generator (not supported in the browser yet),\n",
              "// where there are multiple asynchronous steps and the Python side is going\n",
              "// to poll for completion of each step.\n",
              "// This uses a Promise to block the python side on completion of each step,\n",
              "// then passes the result of the previous step as the input to the next step.\n",
              "function _uploadFilesContinue(outputId) {\n",
              "  const outputElement = document.getElementById(outputId);\n",
              "  const steps = outputElement.steps;\n",
              "\n",
              "  const next = steps.next(outputElement.lastPromiseValue);\n",
              "  return Promise.resolve(next.value.promise).then((value) => {\n",
              "    // Cache the last promise value to make it available to the next\n",
              "    // step of the generator.\n",
              "    outputElement.lastPromiseValue = value;\n",
              "    return next.value.response;\n",
              "  });\n",
              "}\n",
              "\n",
              "/**\n",
              " * Generator function which is called between each async step of the upload\n",
              " * process.\n",
              " * @param {string} inputId Element ID of the input file picker element.\n",
              " * @param {string} outputId Element ID of the output display.\n",
              " * @return {!Iterable<!Object>} Iterable of next steps.\n",
              " */\n",
              "function* uploadFilesStep(inputId, outputId) {\n",
              "  const inputElement = document.getElementById(inputId);\n",
              "  inputElement.disabled = false;\n",
              "\n",
              "  const outputElement = document.getElementById(outputId);\n",
              "  outputElement.innerHTML = '';\n",
              "\n",
              "  const pickedPromise = new Promise((resolve) => {\n",
              "    inputElement.addEventListener('change', (e) => {\n",
              "      resolve(e.target.files);\n",
              "    });\n",
              "  });\n",
              "\n",
              "  const cancel = document.createElement('button');\n",
              "  inputElement.parentElement.appendChild(cancel);\n",
              "  cancel.textContent = 'Cancel upload';\n",
              "  const cancelPromise = new Promise((resolve) => {\n",
              "    cancel.onclick = () => {\n",
              "      resolve(null);\n",
              "    };\n",
              "  });\n",
              "\n",
              "  // Wait for the user to pick the files.\n",
              "  const files = yield {\n",
              "    promise: Promise.race([pickedPromise, cancelPromise]),\n",
              "    response: {\n",
              "      action: 'starting',\n",
              "    }\n",
              "  };\n",
              "\n",
              "  cancel.remove();\n",
              "\n",
              "  // Disable the input element since further picks are not allowed.\n",
              "  inputElement.disabled = true;\n",
              "\n",
              "  if (!files) {\n",
              "    return {\n",
              "      response: {\n",
              "        action: 'complete',\n",
              "      }\n",
              "    };\n",
              "  }\n",
              "\n",
              "  for (const file of files) {\n",
              "    const li = document.createElement('li');\n",
              "    li.append(span(file.name, {fontWeight: 'bold'}));\n",
              "    li.append(span(\n",
              "        `(${file.type || 'n/a'}) - ${file.size} bytes, ` +\n",
              "        `last modified: ${\n",
              "            file.lastModifiedDate ? file.lastModifiedDate.toLocaleDateString() :\n",
              "                                    'n/a'} - `));\n",
              "    const percent = span('0% done');\n",
              "    li.appendChild(percent);\n",
              "\n",
              "    outputElement.appendChild(li);\n",
              "\n",
              "    const fileDataPromise = new Promise((resolve) => {\n",
              "      const reader = new FileReader();\n",
              "      reader.onload = (e) => {\n",
              "        resolve(e.target.result);\n",
              "      };\n",
              "      reader.readAsArrayBuffer(file);\n",
              "    });\n",
              "    // Wait for the data to be ready.\n",
              "    let fileData = yield {\n",
              "      promise: fileDataPromise,\n",
              "      response: {\n",
              "        action: 'continue',\n",
              "      }\n",
              "    };\n",
              "\n",
              "    // Use a chunked sending to avoid message size limits. See b/62115660.\n",
              "    let position = 0;\n",
              "    do {\n",
              "      const length = Math.min(fileData.byteLength - position, MAX_PAYLOAD_SIZE);\n",
              "      const chunk = new Uint8Array(fileData, position, length);\n",
              "      position += length;\n",
              "\n",
              "      const base64 = btoa(String.fromCharCode.apply(null, chunk));\n",
              "      yield {\n",
              "        response: {\n",
              "          action: 'append',\n",
              "          file: file.name,\n",
              "          data: base64,\n",
              "        },\n",
              "      };\n",
              "\n",
              "      let percentDone = fileData.byteLength === 0 ?\n",
              "          100 :\n",
              "          Math.round((position / fileData.byteLength) * 100);\n",
              "      percent.textContent = `${percentDone}% done`;\n",
              "\n",
              "    } while (position < fileData.byteLength);\n",
              "  }\n",
              "\n",
              "  // All done.\n",
              "  yield {\n",
              "    response: {\n",
              "      action: 'complete',\n",
              "    }\n",
              "  };\n",
              "}\n",
              "\n",
              "scope.google = scope.google || {};\n",
              "scope.google.colab = scope.google.colab || {};\n",
              "scope.google.colab._files = {\n",
              "  _uploadFiles,\n",
              "  _uploadFilesContinue,\n",
              "};\n",
              "})(self);\n",
              "</script> "
            ]
          },
          "metadata": {}
        },
        {
          "output_type": "stream",
          "name": "stdout",
          "text": [
            "Saving CategoricalRBM.py to CategoricalRBM.py\n",
            "Saving dataProcess.py to dataProcess.py\n"
          ]
        },
        {
          "output_type": "execute_result",
          "data": {
            "text/plain": [
              "{'CategoricalRBM.py': b'import torch\\nfrom torch import nn\\n\\nclass CategoricalRBM(nn.Module):\\n\\n    def __init__(self, D, M, K):\\n        \\'\\'\\'\\n        Categorical RBM has a visible part of D features, each feature is a K size one-hot tensor.\\n        Hidden part has size M, each is a Bernoulli variable.\\n        \\'\\'\\'\\n        super(CategoricalRBM, self).__init__()\\n        self.W = nn.Parameter(torch.randn(D, K, M))\\n        self.c = nn.Parameter(torch.randn(M))\\n        self.b = nn.Parameter(torch.randn(D, K))\\n        self.hact = nn.Sigmoid()\\n        self.vact = nn.Softmax(dim=-1)\\n        self.splus = nn.Softplus()\\n        self.refloss = nn.CrossEntropyLoss()\\n\\n\\n    def free_energy(self, V):\\n        f1 = torch.mean(torch.tensordot(V, self.b, dims=([1,2],[0,1])))\\n        f2 = torch.mean(torch.sum(self.splus(torch.tensordot(V, self.W, dims=([1,2],[0,1])) + self.c), dim = 1))\\n        return f1 + f2\\n\\n    def forward(self, Visible, Mask):\\n        \\'\\'\\'\\n        Visible is an N*D*K tensor, N: sample size; D:feature size(i.e., if Visible is user, then feature is movie or item);\\n        K: Category size.\\n        \\'\\'\\'\\n        # from visible to hidden\\n        HofV = torch.tensordot(Visible, self.W, dims=([1,2],[0,1])) + self.c\\n        HofV = self.hact(HofV)\\n        HofV = torch.bernoulli(HofV)\\n\\n        # from hidden to Visible\\n        VofH = torch.tensordot(HofV, self.W, dims = ([1],[2])) + self.b\\n        refloss = self.refloss(VofH.detach(), Visible.detach()) # cross entropy loss for reference\\n        VofH = self.vact(VofH)\\n        Vcate = torch.distributions.categorical.Categorical(VofH)\\n        VofH = Vcate.sample()\\n        VofH = nn.functional.one_hot(VofH)\\n        Mask = torch.unsqueeze(Mask, dim=-1)\\n        VofH = VofH*Mask\\n\\n        return VofH, refloss\\n\\n\\ndef train_loop(model, train_dataloader, epoch, lr=0.05, eval_dataloader=None):\\n    optimizer = torch.optim.Adam(model.parameters(), lr=lr)\\n    train_loss = 0.0\\n    ref_loss = 0.0\\n    model.train()\\n\\n    for i, data in enumerate(train_dataloader):\\n        visible, mask = data\\n        if torch.cuda.is_available():\\n            visible, mask = visible.cuda(), mask.cuda()\\n\\n        optimizer.zero_grad()\\n        visible, mask = visible.float(), mask.float()\\n        output, refloss = model(visible, mask)\\n        loss = torch.abs(model.free_energy(visible) - model.free_energy(output))\\n        #loss = loss_func(target, labels)\\n        loss.backward()\\n        optimizer.step()\\n        train_loss += loss.item()\\n        ref_loss += refloss\\n\\n    if eval_dataloader:\\n        valid_loss = 0.0\\n        model.eval()     # Optional when not using model Specific layer\\n        for data in eval_dataloader:\\n            visible, mask = data\\n            if torch.cuda.is_available():\\n                visible, mask = visible.cuda(), mask.cuda()\\n\\n            output, refloss = model(visible, mask)\\n            loss = model.free_energy(visible) - model.free_energy(output)\\n            valid_loss += loss.item() * len(inputs)\\n\\n    if epoch%1==0:\\n        print(f\\'Epoch {epoch+1} \\\\t\\\\t Training Loss: {train_loss, train_loss / len(train_dataloader)} \\\\t\\\\t Cross Entropy Loss: {ref_loss, ref_loss / len(train_dataloader)}\\')\\n        if eval_dataloader:\\n            print(f\\'\\\\t\\\\t Validation Loss: {valid_loss, valid_loss / len(eval_dataloader)}\\')\\n            if min_valid_loss > valid_loss:\\n                print(f\"Validation Loss Decreased({min_valid_loss:.6f}--->{valid_loss:.6f})\")\\n                min_valid_loss = valid_loss\\n                # Saving State Dict\\n                torch.save(model.state_dict(), \\'saved_model.pth\\')\\n    return model\\n',\n",
              " 'dataProcess.py': b'# Processes movie lens data\\nimport pandas as pd\\nimport numpy as np\\nimport torch\\nfrom torchvision import datasets\\nfrom torch.utils.data import Dataset, DataLoader\\n\\ndef getVandMask(path = \"rating_1m.csv\"):\\n\\n    df = pd.read_csv(path)\\n\\n    print(df.head())\\n    print(len(df))\\n\\n    umin, umax = df[\\'user\\'].min(), df[\\'user\\'].max()\\n    mmin, mmax = df[\\'movie\\'].min(), df[\\'movie\\'].max()\\n    K = len(df[\\'rating\\'].unique())\\n\\n    Visible = np.zeros((umax, mmax))\\n    Mask = np.zeros((umax, mmax))\\n    countones = 0\\n    for u,m,r in zip(df[\\'user\\'], df[\\'movie\\'], df[\\'rating\\']):\\n        Visible[u-1][m-1] = r\\n        Mask[u-1][m-1] = 1\\n        countones += 1\\n\\n    # One-hot-lize visible\\n    Visible = torch.nn.functional.one_hot(torch.tensor(Visible.astype(int)))\\n    Visible = Visible.numpy()\\n    Visible = Visible[:,:,1:6]\\n    return Visible, Mask\\n\\nclass ratingdataset(Dataset):\\n  def __init__(self, V, Mask):\\n    self.V = V\\n    self.Mask = Mask\\n\\n  def __len__(self):\\n    return len(self.V[:,0])\\n\\n  def __getitem__(self, idx):\\n    return [self.V[idx], self.Mask[idx]]\\n'}"
            ]
          },
          "metadata": {},
          "execution_count": 2
        }
      ],
      "source": [
        "from google.colab import files\n",
        "files.upload()"
      ]
    },
    {
      "cell_type": "code",
      "source": [
        "# !rm dataProcess*\n",
        "# !rm Categorical*\n",
        "!ls"
      ],
      "metadata": {
        "colab": {
          "base_uri": "https://localhost:8080/"
        },
        "id": "tBJ_YrZ721lo",
        "outputId": "18159247-30b3-407c-a410-d33f8885cc44"
      },
      "execution_count": 3,
      "outputs": [
        {
          "output_type": "stream",
          "name": "stdout",
          "text": [
            "CategoricalRBM.py  dataProcess.py  __pycache__\trating_1m.csv  sample_data\n"
          ]
        }
      ]
    },
    {
      "cell_type": "code",
      "execution_count": 4,
      "metadata": {
        "id": "qvXlXpRZ1PED"
      },
      "outputs": [],
      "source": [
        "import torch\n",
        "from torch import nn\n",
        "import numpy as np\n",
        "import CategoricalRBM\n",
        "import dataProcess\n",
        "from torchvision import datasets\n",
        "from torch.utils.data import Dataset, DataLoader"
      ]
    },
    {
      "cell_type": "markdown",
      "source": [
        "#### DataProcessing"
      ],
      "metadata": {
        "id": "jaE4-QDj3MW9"
      }
    },
    {
      "cell_type": "code",
      "source": [
        "Visible, Mask = dataProcess.getVandMask()"
      ],
      "metadata": {
        "colab": {
          "base_uri": "https://localhost:8080/"
        },
        "id": "OKZKDp7t2mh6",
        "outputId": "35c52cef-dc6b-4fe9-dfae-4673ce194359"
      },
      "execution_count": 5,
      "outputs": [
        {
          "output_type": "stream",
          "name": "stdout",
          "text": [
            "   Unnamed: 0  user  movie  rating\n",
            "0           0     1   1193       5\n",
            "1           1     1    661       3\n",
            "2           2     1    914       3\n",
            "3           3     1   3408       4\n",
            "4           4     1   2355       5\n",
            "1000209\n"
          ]
        }
      ]
    },
    {
      "cell_type": "code",
      "source": [
        "N = len(Visible)\n",
        "N"
      ],
      "metadata": {
        "colab": {
          "base_uri": "https://localhost:8080/"
        },
        "id": "vReef_u33X9B",
        "outputId": "a52ad6fe-5064-4869-accf-a55195328707"
      },
      "execution_count": 6,
      "outputs": [
        {
          "output_type": "execute_result",
          "data": {
            "text/plain": [
              "6040"
            ]
          },
          "metadata": {},
          "execution_count": 6
        }
      ]
    },
    {
      "cell_type": "code",
      "source": [
        "cut = int(N*0.8)\n",
        "Visible_train = Visible[:cut]\n",
        "Visible_test = Visible[cut:]\n",
        "Mask_train = Mask[:cut]\n",
        "Mask_test = Mask[cut:]"
      ],
      "metadata": {
        "id": "KHe5DcOu3fse"
      },
      "execution_count": 7,
      "outputs": []
    },
    {
      "cell_type": "code",
      "source": [
        "data_train = dataProcess.ratingdataset(Visible_train, Mask_train)\n",
        "data_test = dataProcess.ratingdataset(Visible_test, Mask_test)"
      ],
      "metadata": {
        "id": "xvH0r0g93zNu"
      },
      "execution_count": 8,
      "outputs": []
    },
    {
      "cell_type": "code",
      "source": [
        "bs = 20\n",
        "train_dataloader = DataLoader(data_train, batch_size=bs, shuffle=True)\n",
        "test_dataloader = DataLoader(data_test, batch_size=bs, shuffle=True)"
      ],
      "metadata": {
        "id": "GHiJ8Y-a4FZM"
      },
      "execution_count": 9,
      "outputs": []
    },
    {
      "cell_type": "markdown",
      "source": [
        "#### Model and Training"
      ],
      "metadata": {
        "id": "z2sBh30B5HLv"
      }
    },
    {
      "cell_type": "code",
      "source": [
        "D, K = Visible.shape[1], Visible.shape[2]\n",
        "D,K"
      ],
      "metadata": {
        "colab": {
          "base_uri": "https://localhost:8080/"
        },
        "id": "S-sq09TR5Sus",
        "outputId": "dc05a1dd-aee8-41dc-cba4-8cf61a96d28b"
      },
      "execution_count": 14,
      "outputs": [
        {
          "output_type": "execute_result",
          "data": {
            "text/plain": [
              "(3952, 500, 5)"
            ]
          },
          "metadata": {},
          "execution_count": 14
        }
      ]
    },
    {
      "cell_type": "markdown",
      "source": [
        "How does the size of the hidden part influence the training?\n",
        "Below we test with M = 100, 200, 500 respectively."
      ],
      "metadata": {
        "id": "84oeLtTfLUdU"
      }
    },
    {
      "cell_type": "code",
      "source": [
        "M = 100\n",
        "model = CategoricalRBM.CategoricalRBM(D, M, K)\n",
        "epochs = 10\n",
        "lr = 0.05\n",
        "for epoch in range(epochs):\n",
        "  CategoricalRBM.train_loop(model, train_dataloader, epoch, lr)"
      ],
      "metadata": {
        "colab": {
          "base_uri": "https://localhost:8080/"
        },
        "id": "CUPtUn3LLmWU",
        "outputId": "6815153c-465e-4daa-bd3e-a1eb76944eb3"
      },
      "execution_count": 19,
      "outputs": [
        {
          "output_type": "stream",
          "name": "stdout",
          "text": [
            "Epoch 1 \t\t Training Loss: (88186.41279602051, 364.4066644463657) \t\t Cross Entropy Loss: (tensor(145546.7656), tensor(601.4329))\n",
            "Epoch 2 \t\t Training Loss: (41372.30519866943, 170.959938837477) \t\t Cross Entropy Loss: (tensor(121434.5391), tensor(501.7956))\n",
            "Epoch 3 \t\t Training Loss: (35703.872146606445, 147.53666176283656) \t\t Cross Entropy Loss: (tensor(119820.0234), tensor(495.1241))\n",
            "Epoch 4 \t\t Training Loss: (32668.76300048828, 134.99488843176977) \t\t Cross Entropy Loss: (tensor(120251.8359), tensor(496.9084))\n",
            "Epoch 5 \t\t Training Loss: (30291.243103027344, 125.17042604556754) \t\t Cross Entropy Loss: (tensor(123454.2031), tensor(510.1413))\n",
            "Epoch 6 \t\t Training Loss: (29977.187286376953, 123.87267473709485) \t\t Cross Entropy Loss: (tensor(123582.5000), tensor(510.6715))\n",
            "Epoch 7 \t\t Training Loss: (29347.197509765625, 121.26941119737862) \t\t Cross Entropy Loss: (tensor(125468.4375), tensor(518.4646))\n",
            "Epoch 8 \t\t Training Loss: (28780.84292602539, 118.92910300010492) \t\t Cross Entropy Loss: (tensor(127786.4453), tensor(528.0432))\n",
            "Epoch 9 \t\t Training Loss: (28568.29344177246, 118.0507993461672) \t\t Cross Entropy Loss: (tensor(131873.8281), tensor(544.9332))\n",
            "Epoch 10 \t\t Training Loss: (28649.03141784668, 118.38442734647388) \t\t Cross Entropy Loss: (tensor(134556.3281), tensor(556.0179))\n"
          ]
        }
      ]
    },
    {
      "cell_type": "code",
      "source": [
        "M = 200\n",
        "model = CategoricalRBM.CategoricalRBM(D, M, K)\n",
        "epochs = 10\n",
        "lr = 0.05\n",
        "for epoch in range(epochs):\n",
        "  CategoricalRBM.train_loop(model, train_dataloader, epoch, lr)"
      ],
      "metadata": {
        "colab": {
          "base_uri": "https://localhost:8080/"
        },
        "id": "KtUauGtVLqS7",
        "outputId": "4345bb37-ae66-440e-d8ee-5d5aa6069bcb"
      },
      "execution_count": 20,
      "outputs": [
        {
          "output_type": "stream",
          "name": "stdout",
          "text": [
            "Epoch 1 \t\t Training Loss: (90212.71142578125, 372.7797992800878) \t\t Cross Entropy Loss: (tensor(140263.9531), tensor(579.6031))\n",
            "Epoch 2 \t\t Training Loss: (38726.63863372803, 160.02743237077698) \t\t Cross Entropy Loss: (tensor(115327.1875), tensor(476.5586))\n",
            "Epoch 3 \t\t Training Loss: (33485.841957092285, 138.3712477565797) \t\t Cross Entropy Loss: (tensor(115425.6484), tensor(476.9655))\n",
            "Epoch 4 \t\t Training Loss: (30603.33042907715, 126.46004309536012) \t\t Cross Entropy Loss: (tensor(117343.0859), tensor(484.8888))\n",
            "Epoch 5 \t\t Training Loss: (29493.11309814453, 121.87236817415095) \t\t Cross Entropy Loss: (tensor(120358.7578), tensor(497.3503))\n",
            "Epoch 6 \t\t Training Loss: (28155.24870300293, 116.34400290497078) \t\t Cross Entropy Loss: (tensor(122287.9688), tensor(505.3222))\n",
            "Epoch 7 \t\t Training Loss: (27213.030731201172, 112.45054021157509) \t\t Cross Entropy Loss: (tensor(125081.2031), tensor(516.8645))\n",
            "Epoch 8 \t\t Training Loss: (26274.310165405273, 108.5715296091127) \t\t Cross Entropy Loss: (tensor(127439.2656), tensor(526.6085))\n",
            "Epoch 9 \t\t Training Loss: (25366.121307373047, 104.81868308831838) \t\t Cross Entropy Loss: (tensor(130466.), tensor(539.1157))\n",
            "Epoch 10 \t\t Training Loss: (24846.773223876953, 102.67261662759071) \t\t Cross Entropy Loss: (tensor(133585.2812), tensor(552.0053))\n"
          ]
        }
      ]
    },
    {
      "cell_type": "code",
      "source": [
        "M = 500\n",
        "model = CategoricalRBM.CategoricalRBM(D, M, K)\n",
        "epochs = 10\n",
        "lr = 0.05\n",
        "for epoch in range(epochs):\n",
        "  CategoricalRBM.train_loop(model, train_dataloader, epoch, lr)"
      ],
      "metadata": {
        "colab": {
          "base_uri": "https://localhost:8080/"
        },
        "id": "-5-MLE-g5xr-",
        "outputId": "fa954932-64aa-4cba-b6fa-c12cd765ec22"
      },
      "execution_count": 16,
      "outputs": [
        {
          "output_type": "stream",
          "name": "stdout",
          "text": [
            "Epoch 1 \t\t Training Loss: (105024.35803985596, 433.9849505779172) \t\t Cross Entropy Loss: (tensor(149620.1250), tensor(618.2650))\n",
            "Epoch 2 \t\t Training Loss: (34202.60576629639, 141.3330816789107) \t\t Cross Entropy Loss: (tensor(102855.8516), tensor(425.0242))\n",
            "Epoch 3 \t\t Training Loss: (29886.250946044922, 123.49690473572282) \t\t Cross Entropy Loss: (tensor(109539.2109), tensor(452.6414))\n",
            "Epoch 4 \t\t Training Loss: (27023.647720336914, 111.66796578651618) \t\t Cross Entropy Loss: (tensor(115882.8047), tensor(478.8546))\n",
            "Epoch 5 \t\t Training Loss: (24886.80712890625, 102.8380459872159) \t\t Cross Entropy Loss: (tensor(120505.4453), tensor(497.9564))\n",
            "Epoch 6 \t\t Training Loss: (22996.33984375, 95.02619770144628) \t\t Cross Entropy Loss: (tensor(124141.7344), tensor(512.9824))\n",
            "Epoch 7 \t\t Training Loss: (21517.564056396484, 88.91555395205158) \t\t Cross Entropy Loss: (tensor(127116.0156), tensor(525.2728))\n",
            "Epoch 8 \t\t Training Loss: (19954.069427490234, 82.45483234500097) \t\t Cross Entropy Loss: (tensor(130448.5469), tensor(539.0436))\n",
            "Epoch 9 \t\t Training Loss: (18339.54510498047, 75.78324423545648) \t\t Cross Entropy Loss: (tensor(133154.5156), tensor(550.2253))\n",
            "Epoch 10 \t\t Training Loss: (17185.088928222656, 71.01276416620932) \t\t Cross Entropy Loss: (tensor(135058.5625), tensor(558.0933))\n"
          ]
        }
      ]
    },
    {
      "cell_type": "code",
      "source": [],
      "metadata": {
        "id": "mBZJOqS2DDnX"
      },
      "execution_count": null,
      "outputs": []
    }
  ],
  "metadata": {
    "colab": {
      "collapsed_sections": [],
      "provenance": []
    },
    "kernelspec": {
      "display_name": "Python 3",
      "name": "python3"
    },
    "language_info": {
      "name": "python"
    }
  },
  "nbformat": 4,
  "nbformat_minor": 0
}